{
 "cells": [
  {
   "cell_type": "code",
   "execution_count": 35,
   "id": "43774560",
   "metadata": {},
   "outputs": [],
   "source": [
    "from sklearn import tree"
   ]
  },
  {
   "cell_type": "code",
   "execution_count": 36,
   "id": "96bb6fbd",
   "metadata": {},
   "outputs": [],
   "source": [
    "#[height, weight, shoe size]\n",
    "X=[[181,80,44],[177,70,43],[160,60,38],[154,54,37],\n",
    "  [166,65,40], [190,90,47], [175,64,39],[177,70,40],[159,80, 42],\n",
    "  [171,75,42],[181,85,43],[179,70,38]]\n",
    "Y=['male','female','female','female','male','male','male','female','male','female','male','male']"
   ]
  },
  {
   "cell_type": "code",
   "execution_count": 37,
   "id": "be11304b",
   "metadata": {},
   "outputs": [],
   "source": [
    "from sklearn.preprocessing import LabelEncoder\n",
    "Le=LabelEncoder()\n",
    "Y=Le.fit_transform(Y)"
   ]
  },
  {
   "cell_type": "code",
   "execution_count": 38,
   "id": "45d0b91e",
   "metadata": {},
   "outputs": [
    {
     "name": "stdout",
     "output_type": "stream",
     "text": [
      "[1 0 0 0 1 1 1 0 1 0 1 1]\n"
     ]
    }
   ],
   "source": [
    "print(Y)"
   ]
  },
  {
   "cell_type": "code",
   "execution_count": 39,
   "id": "3070b07b",
   "metadata": {},
   "outputs": [
    {
     "data": {
      "text/plain": [
       "DecisionTreeClassifier()"
      ]
     },
     "execution_count": 39,
     "metadata": {},
     "output_type": "execute_result"
    }
   ],
   "source": [
    "clf=tree.DecisionTreeClassifier()\n",
    "clf.fit(X,Y)"
   ]
  },
  {
   "cell_type": "code",
   "execution_count": 40,
   "id": "430993df",
   "metadata": {},
   "outputs": [],
   "source": [
    "pred=clf.predict([[179,80,46]])"
   ]
  },
  {
   "cell_type": "code",
   "execution_count": null,
   "id": "8dfd4d0b",
   "metadata": {},
   "outputs": [],
   "source": [
    "'''The above are my measurements. The model correctly predicted that I am Male. However, we need to run more tests'''"
   ]
  },
  {
   "cell_type": "code",
   "execution_count": 41,
   "id": "ba4125b9",
   "metadata": {},
   "outputs": [
    {
     "name": "stdout",
     "output_type": "stream",
     "text": [
      "[1]\n"
     ]
    }
   ],
   "source": [
    "print(pred)"
   ]
  },
  {
   "cell_type": "code",
   "execution_count": 42,
   "id": "2587f966",
   "metadata": {},
   "outputs": [
    {
     "data": {
      "text/plain": [
       "array([1, 0, 0, 0, 1, 1, 1, 0, 1, 0, 1, 1], dtype=int64)"
      ]
     },
     "execution_count": 42,
     "metadata": {},
     "output_type": "execute_result"
    }
   ],
   "source": [
    "Y_pred=clf.predict(X)\n",
    "Y_pred"
   ]
  },
  {
   "cell_type": "code",
   "execution_count": 43,
   "id": "1793df7f",
   "metadata": {},
   "outputs": [],
   "source": [
    "from sklearn.metrics import accuracy_score"
   ]
  },
  {
   "cell_type": "code",
   "execution_count": 44,
   "id": "5d45beb7",
   "metadata": {},
   "outputs": [
    {
     "data": {
      "text/plain": [
       "1.0"
      ]
     },
     "execution_count": 44,
     "metadata": {},
     "output_type": "execute_result"
    }
   ],
   "source": [
    "accu=accuracy_score(Y,Y_pred)\n",
    "accu"
   ]
  },
  {
   "cell_type": "code",
   "execution_count": null,
   "id": "6f8b0d9f",
   "metadata": {},
   "outputs": [],
   "source": [
    "'''Model seems overfitted. The predicted values are all equal to the actual values'''"
   ]
  },
  {
   "cell_type": "code",
   "execution_count": 17,
   "id": "740ff026",
   "metadata": {},
   "outputs": [],
   "source": [
    "from sklearn.model_selection import train_test_split\n",
    "X_train,X_test,Y_train,Y_test=train_test_split(X,Y,test_size=0.2,random_state=0)\n"
   ]
  },
  {
   "cell_type": "code",
   "execution_count": 18,
   "id": "33285365",
   "metadata": {},
   "outputs": [
    {
     "data": {
      "text/plain": [
       "DecisionTreeClassifier()"
      ]
     },
     "execution_count": 18,
     "metadata": {},
     "output_type": "execute_result"
    }
   ],
   "source": [
    "clf.fit(X_train,Y_train)"
   ]
  },
  {
   "cell_type": "code",
   "execution_count": 22,
   "id": "a5ad3c4e",
   "metadata": {},
   "outputs": [],
   "source": [
    "Y_pred=clf.predict(X_test)"
   ]
  },
  {
   "cell_type": "code",
   "execution_count": 28,
   "id": "d81db446",
   "metadata": {},
   "outputs": [],
   "source": [
    "from sklearn.metrics import confusion_matrix,accuracy_score"
   ]
  },
  {
   "cell_type": "code",
   "execution_count": 31,
   "id": "354e4000",
   "metadata": {},
   "outputs": [
    {
     "data": {
      "text/plain": [
       "array([[0, 0],\n",
       "       [3, 0]], dtype=int64)"
      ]
     },
     "execution_count": 31,
     "metadata": {},
     "output_type": "execute_result"
    }
   ],
   "source": [
    "cm=confusion_matrix(Y_test,Y_pred)\n",
    "cm"
   ]
  },
  {
   "cell_type": "code",
   "execution_count": 34,
   "id": "ccb5d155",
   "metadata": {},
   "outputs": [
    {
     "data": {
      "text/plain": [
       "0.0"
      ]
     },
     "execution_count": 34,
     "metadata": {},
     "output_type": "execute_result"
    }
   ],
   "source": [
    "acc=accuracy_score(Y_test,Y_pred)\n",
    "acc"
   ]
  },
  {
   "cell_type": "code",
   "execution_count": null,
   "id": "bee3465d",
   "metadata": {},
   "outputs": [],
   "source": [
    "'''The model is underfitted. Needs more data'''"
   ]
  }
 ],
 "metadata": {
  "kernelspec": {
   "display_name": "Python 3 (ipykernel)",
   "language": "python",
   "name": "python3"
  },
  "language_info": {
   "codemirror_mode": {
    "name": "ipython",
    "version": 3
   },
   "file_extension": ".py",
   "mimetype": "text/x-python",
   "name": "python",
   "nbconvert_exporter": "python",
   "pygments_lexer": "ipython3",
   "version": "3.9.12"
  }
 },
 "nbformat": 4,
 "nbformat_minor": 5
}
